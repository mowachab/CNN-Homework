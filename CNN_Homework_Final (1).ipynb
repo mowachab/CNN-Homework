{
  "cells": [
    {
      "cell_type": "markdown",
      "source": [
        "# **Made by :**\n",
        "\n",
        "*   **Mohammed Wafiq Chahboun (114743)**\n",
        "*   **Rhassan BERBER (115741)**\n",
        "\n"
      ],
      "metadata": {
        "id": "9jplGL71kpHS"
      }
    },
    {
      "cell_type": "markdown",
      "source": [
        "# **Loading the necessary imports**"
      ],
      "metadata": {
        "id": "Z8YmbGNmgrXs"
      }
    },
    {
      "cell_type": "code",
      "execution_count": 1,
      "metadata": {
        "id": "OBFULVzgFB1g"
      },
      "outputs": [],
      "source": [
        "import numpy as np\n",
        "from scipy.ndimage import convolve\n",
        "import tensorflow as tf\n",
        "import matplotlib.pyplot as plt\n"
      ]
    },
    {
      "cell_type": "code",
      "execution_count": 2,
      "metadata": {
        "id": "9_iD_ELxzHeX",
        "colab": {
          "base_uri": "https://localhost:8080/"
        },
        "outputId": "e3da8c76-0a83-4578-8c97-b6119471a2b4"
      },
      "outputs": [
        {
          "output_type": "stream",
          "name": "stdout",
          "text": [
            "Downloading data from https://www.cs.toronto.edu/~kriz/cifar-10-python.tar.gz\n",
            "170498071/170498071 [==============================] - 4s 0us/step\n"
          ]
        }
      ],
      "source": [
        "(x_train, y_train), (x_test, y_test)=tf.keras.datasets.cifar10.load_data()"
      ]
    },
    {
      "cell_type": "markdown",
      "source": [
        "\n",
        "**- `x_train`, `y_train`: Training images and labels**\n",
        "\n",
        "**- `x_test`, `y_test`: Testing images and labels**\n"
      ],
      "metadata": {
        "id": "AnSA3_yFg0UI"
      }
    },
    {
      "cell_type": "code",
      "execution_count": 3,
      "metadata": {
        "id": "T-Vk6u_XzLqR",
        "colab": {
          "base_uri": "https://localhost:8080/"
        },
        "outputId": "22a3a29b-baed-42ad-f443-169520326c32"
      },
      "outputs": [
        {
          "output_type": "execute_result",
          "data": {
            "text/plain": [
              "(50000, 32, 32, 3)"
            ]
          },
          "metadata": {},
          "execution_count": 3
        }
      ],
      "source": [
        "x_train.shape"
      ]
    },
    {
      "cell_type": "code",
      "execution_count": 4,
      "metadata": {
        "id": "j0y_cqktzQJ1",
        "colab": {
          "base_uri": "https://localhost:8080/"
        },
        "outputId": "9bddf013-4f1b-4a44-d018-e3297b70228b"
      },
      "outputs": [
        {
          "output_type": "execute_result",
          "data": {
            "text/plain": [
              "(50000, 1)"
            ]
          },
          "metadata": {},
          "execution_count": 4
        }
      ],
      "source": [
        "y_train.shape"
      ]
    },
    {
      "cell_type": "code",
      "execution_count": 5,
      "metadata": {
        "colab": {
          "base_uri": "https://localhost:8080/",
          "height": 447
        },
        "id": "VdisgBkq1k3Q",
        "outputId": "5a34d7c0-8bbc-4cd2-f909-7c600a011b19"
      },
      "outputs": [
        {
          "output_type": "execute_result",
          "data": {
            "text/plain": [
              "<matplotlib.image.AxesImage at 0x7dfa1b91a230>"
            ]
          },
          "metadata": {},
          "execution_count": 5
        },
        {
          "output_type": "display_data",
          "data": {
            "text/plain": [
              "<Figure size 640x480 with 1 Axes>"
            ],
            "image/png": "[encoded data removed]"
          },
          "metadata": {}
        }
      ],
      "source": [
        "plt.imshow(x_train[156])"
      ]
    },
    {
      "cell_type": "code",
      "execution_count": 6,
      "metadata": {
        "colab": {
          "base_uri": "https://localhost:8080/"
        },
        "id": "llOIBcHs3rCs",
        "outputId": "57cca7c9-d8c4-43da-d8fa-b739661f749c"
      },
      "outputs": [
        {
          "output_type": "execute_result",
          "data": {
            "text/plain": [
              "array([1], dtype=uint8)"
            ]
          },
          "metadata": {},
          "execution_count": 6
        }
      ],
      "source": [
        "y_train[5]"
      ]
    },
    {
      "cell_type": "markdown",
      "source": [
        "# **creating binary labels and filters the dataset:**\n",
        "\n",
        "1. **Define Classes**:\n",
        "   - `can_fly = [0, 2]` (airplane, bird)\n",
        "   - `cannot_fly = [1, 3, 4, 5, 6, 7, 8, 9]` (others)\n",
        "\n",
        "2. **Create Binary Labels**:\n",
        "   - `y_train_bin`: 1 if \"can fly\", 0 if \"cannot fly\" for training data.\n",
        "   - `y_test_bin`: Same for test data.\n",
        "\n",
        "3. **Filter Dataset**:\n",
        "   - `x_train_filtered`, `y_train_filtered`: Filtered training data and labels.\n",
        "   - `x_test_filtered`, `y_test_filtered`: Filtered test data and labels.\n"
      ],
      "metadata": {
        "id": "-mbYYMdXiG9a"
      }
    },
    {
      "cell_type": "code",
      "execution_count": 7,
      "metadata": {
        "id": "gesYxAgh3s8O"
      },
      "outputs": [],
      "source": [
        "# Define the classes for \"can fly\" (1) and \"cannot fly\" (0)\n",
        "can_fly = [0, 2]  # 0: airplane, 2: bird\n",
        "cannot_fly = [1, 3, 4, 5, 6, 7, 8, 9]  # 1: automobile, 3: cat, 4: deer, 5: dog, 6: frog, 7: horse, 8: ship, 9: truck\n",
        "\n",
        "# Create binary labels\n",
        "y_train_bin = np.where(np.isin(y_train, can_fly), 1, 0)  #<---isin checks each element in the y_train array and determines if it's present in the can_fly list (return a boolean array)\n",
        "y_test_bin = np.where(np.isin(y_test, can_fly), 1, 0)    # <---- the output should be in the form of [0,1,0,0,0,0,0,1] where 1 means that the element belongs to can_fly\n",
        "\n",
        "# Filter the dataset to include only relevant classes\n",
        "train_indices = np.isin(y_train, can_fly + cannot_fly)\n",
        "test_indices = np.isin(y_test, can_fly + cannot_fly)\n",
        "\n",
        "x_train_filtered = x_train[train_indices.flatten()]\n",
        "y_train_filtered = y_train_bin[train_indices.flatten()]\n",
        "\n",
        "x_test_filtered = x_test[test_indices.flatten()]\n",
        "y_test_filtered = y_test_bin[test_indices.flatten()]"
      ]
    },
    {
      "cell_type": "markdown",
      "source": [
        "# **Defining a CNN model using TensorFlow's Keras API:**\n",
        "\n",
        "1. **Model Architecture**:\n",
        "   - Sequential model with input shape (32, 32, 3).\n",
        "   - Three sets of Conv2D and MaxPooling2D layers to extract features.\n",
        "   - Flatten layer to convert 2D feature maps into a 1D feature vector.\n",
        "   - Two Dense layers for classification.\n",
        "\n",
        "2. **Compilation**:\n",
        "   - Loss function: Binary crossentropy.\n",
        "   - Optimizer: Adam.\n",
        "   - Metrics: Accuracy."
      ],
      "metadata": {
        "id": "yeetA6k1i8gv"
      }
    },
    {
      "cell_type": "code",
      "execution_count": 8,
      "metadata": {
        "colab": {
          "base_uri": "https://localhost:8080/"
        },
        "id": "OgNOrD2XDgsn",
        "outputId": "6b5248b0-6c5d-468c-9f9f-3184d27f1e2f"
      },
      "outputs": [
        {
          "output_type": "stream",
          "name": "stdout",
          "text": [
            "Model: \"sequential\"\n",
            "_________________________________________________________________\n",
            " Layer (type)                Output Shape              Param #   \n",
            "=================================================================\n",
            " conv2d (Conv2D)             (None, 32, 32, 32)        896       \n",
            "                                                                 \n",
            " max_pooling2d (MaxPooling2  (None, 16, 16, 32)        0         \n",
            " D)                                                              \n",
            "                                                                 \n",
            " conv2d_1 (Conv2D)           (None, 16, 16, 64)        18496     \n",
            "                                                                 \n",
            " max_pooling2d_1 (MaxPoolin  (None, 8, 8, 64)          0         \n",
            " g2D)                                                            \n",
            "                                                                 \n",
            " conv2d_2 (Conv2D)           (None, 8, 8, 128)         73856     \n",
            "                                                                 \n",
            " max_pooling2d_2 (MaxPoolin  (None, 4, 4, 128)         0         \n",
            " g2D)                                                            \n",
            "                                                                 \n",
            " flatten (Flatten)           (None, 2048)              0         \n",
            "                                                                 \n",
            " dense (Dense)               (None, 128)               262272    \n",
            "                                                                 \n",
            " dense_1 (Dense)             (None, 1)                 129       \n",
            "                                                                 \n",
            "=================================================================\n",
            "Total params: 355649 (1.36 MB)\n",
            "Trainable params: 355649 (1.36 MB)\n",
            "Non-trainable params: 0 (0.00 Byte)\n",
            "_________________________________________________________________\n"
          ]
        }
      ],
      "source": [
        "model = tf.keras.models.Sequential([\n",
        "    tf.keras.layers.Input(shape=(32, 32, 3)),\n",
        "    tf.keras.layers.Conv2D(32, (3, 3), activation='relu', padding='same'),\n",
        "    tf.keras.layers.MaxPooling2D((2, 2)),\n",
        "    tf.keras.layers.Conv2D(64, (3, 3), activation='relu', padding='same'),\n",
        "    tf.keras.layers.MaxPooling2D((2, 2)),\n",
        "    tf.keras.layers.Conv2D(128, (3, 3), activation='relu', padding='same'),\n",
        "    tf.keras.layers.MaxPooling2D((2, 2)),\n",
        "    tf.keras.layers.Flatten(),\n",
        "    tf.keras.layers.Dense(128, activation='relu'),\n",
        "    tf.keras.layers.Dense(1, activation='sigmoid')\n",
        "])\n",
        "\n",
        "model.compile(\n",
        "    loss='binary_crossentropy',\n",
        "    optimizer='adam',\n",
        "    metrics=['accuracy']\n",
        ")\n",
        "\n",
        "model.summary()\n"
      ]
    },
    {
      "cell_type": "markdown",
      "source": [
        "# **Training the defined model:**\n",
        "\n",
        "- **Training Data**: `x_train_filtered` and `y_train_filtered`.\n",
        "- **Parameters**:\n",
        "  - Epochs: 10\n",
        "  - Batch Size: 32\n",
        "  - Validation Split: 20% of training data for validation.\n",
        "\n",
        "The model will undergo 10 epochs of training with a batch size of 32, and 20% of the training data will be used for validation during each epoch."
      ],
      "metadata": {
        "id": "Eu6RSZykjRzC"
      }
    },
    {
      "cell_type": "code",
      "execution_count": 9,
      "metadata": {
        "id": "GFFO7zpjFA8s",
        "colab": {
          "base_uri": "https://localhost:8080/"
        },
        "outputId": "d725c49d-4001-4e6d-91c8-2ba7033ecf53"
      },
      "outputs": [
        {
          "output_type": "stream",
          "name": "stdout",
          "text": [
            "Epoch 1/10\n",
            "1250/1250 [==============================] - 89s 70ms/step - loss: 0.6081 - accuracy: 0.8231 - val_loss: 0.3603 - val_accuracy: 0.8495\n",
            "Epoch 2/10\n",
            "1250/1250 [==============================] - 92s 73ms/step - loss: 0.3524 - accuracy: 0.8523 - val_loss: 0.3358 - val_accuracy: 0.8615\n",
            "Epoch 3/10\n",
            "1250/1250 [==============================] - 88s 70ms/step - loss: 0.3188 - accuracy: 0.8680 - val_loss: 0.3106 - val_accuracy: 0.8769\n",
            "Epoch 4/10\n",
            "1250/1250 [==============================] - 90s 72ms/step - loss: 0.2958 - accuracy: 0.8784 - val_loss: 0.2974 - val_accuracy: 0.8810\n",
            "Epoch 5/10\n",
            "1250/1250 [==============================] - 90s 72ms/step - loss: 0.2744 - accuracy: 0.8878 - val_loss: 0.3035 - val_accuracy: 0.8793\n",
            "Epoch 6/10\n",
            "1250/1250 [==============================] - 87s 70ms/step - loss: 0.2537 - accuracy: 0.8972 - val_loss: 0.3262 - val_accuracy: 0.8707\n",
            "Epoch 7/10\n",
            "1250/1250 [==============================] - 88s 70ms/step - loss: 0.2303 - accuracy: 0.9063 - val_loss: 0.3043 - val_accuracy: 0.8931\n",
            "Epoch 8/10\n",
            "1250/1250 [==============================] - 86s 69ms/step - loss: 0.2112 - accuracy: 0.9150 - val_loss: 0.3184 - val_accuracy: 0.8831\n",
            "Epoch 9/10\n",
            "1250/1250 [==============================] - 88s 71ms/step - loss: 0.1917 - accuracy: 0.9236 - val_loss: 0.2990 - val_accuracy: 0.8894\n",
            "Epoch 10/10\n",
            "1250/1250 [==============================] - 87s 70ms/step - loss: 0.1731 - accuracy: 0.9289 - val_loss: 0.2908 - val_accuracy: 0.8938\n"
          ]
        }
      ],
      "source": [
        "history = model.fit(\n",
        "    x_train_filtered, y_train_filtered,\n",
        "    epochs=10,\n",
        "    batch_size=32,\n",
        "    validation_split=0.2\n",
        ")\n"
      ]
    },
    {
      "cell_type": "markdown",
      "source": [
        "# **Making predictions using the trained model:**\n",
        "\n",
        "- **Predictions Probability**: `predictions_prob`: Probability scores for each test sample.\n",
        "- **Predictions**: `predictions`: Converted to binary predictions using a threshold of 0.5. If the probability is greater than 0.5, it's classified as 1 (can fly); otherwise, it's classified as 0 (cannot fly)."
      ],
      "metadata": {
        "id": "0JD34Vn_jzsI"
      }
    },
    {
      "cell_type": "code",
      "execution_count": 10,
      "metadata": {
        "colab": {
          "base_uri": "https://localhost:8080/"
        },
        "id": "Zy0RyNFBNH4L",
        "outputId": "451b9c14-fcb5-4743-b855-1705d997b888"
      },
      "outputs": [
        {
          "output_type": "stream",
          "name": "stdout",
          "text": [
            "313/313 [==============================] - 7s 22ms/step\n"
          ]
        }
      ],
      "source": [
        "predictions_prob = model.predict(x_test)\n",
        "predictions = (predictions_prob > 0.5).astype(int)"
      ]
    },
    {
      "cell_type": "markdown",
      "source": [
        "# **Computing various evaluation metrics for the model's performance:**\n",
        "\n",
        "- **Precision**: The ratio of correctly predicted positive observations to the total predicted positives.\n",
        "- **Recall**: The ratio of correctly predicted positive observations to the all observations in the actual class.\n",
        "- **F1 Score**: The weighted average of precision and recall.\n",
        "- **Accuracy**: The ratio of correctly predicted observations to the total observations."
      ],
      "metadata": {
        "id": "qYTCfPKdkA-3"
      }
    },
    {
      "cell_type": "code",
      "execution_count": 11,
      "metadata": {
        "colab": {
          "base_uri": "https://localhost:8080/"
        },
        "id": "_Or7sXuJN4Bx",
        "outputId": "514b3421-0655-4126-e4dc-2455e2fade3d"
      },
      "outputs": [
        {
          "output_type": "stream",
          "name": "stdout",
          "text": [
            "Precision: 0.7776365946632783\n",
            "Recall: 0.612\n",
            "F1 Score: 0.684946838276441\n",
            "Accuracy: 0.8874\n"
          ]
        }
      ],
      "source": [
        "from sklearn.metrics import precision_score, recall_score, f1_score, accuracy_score, confusion_matrix\n",
        "\n",
        "precision = precision_score(y_test_filtered, predictions)\n",
        "recall = recall_score(y_test_filtered, predictions)\n",
        "f1 = f1_score(y_test_filtered, predictions)\n",
        "accuracy = accuracy_score(y_test_filtered, predictions)\n",
        "\n",
        "print(\"Precision:\", precision)\n",
        "print(\"Recall:\", recall)\n",
        "print(\"F1 Score:\", f1)\n",
        "print(\"Accuracy:\", accuracy)"
      ]
    },
    {
      "cell_type": "markdown",
      "source": [
        "\n",
        "# **Confusion Matrix**:\n",
        "  - Rows represent the actual classes (true labels).\n",
        "  - Columns represent the predicted classes.\n",
        "  \n",
        "Each cell in the matrix shows the count of samples that fall into a particular combination of actual and predicted classes."
      ],
      "metadata": {
        "id": "YybHPA7OkNw4"
      }
    },
    {
      "cell_type": "code",
      "execution_count": 12,
      "metadata": {
        "id": "VIJbqPq1kIWS",
        "colab": {
          "base_uri": "https://localhost:8080/"
        },
        "outputId": "09cf8fa7-edb3-408f-fc12-3fe2d14d82e3"
      },
      "outputs": [
        {
          "output_type": "stream",
          "name": "stdout",
          "text": [
            "Confusion Matrix:\n",
            "[[7650  350]\n",
            " [ 776 1224]]\n"
          ]
        }
      ],
      "source": [
        "conf_matrix = confusion_matrix(y_test_filtered, predictions)\n",
        "print(\"Confusion Matrix:\")\n",
        "print(conf_matrix)"
      ]
    },
    {
      "cell_type": "code",
      "source": [
        "import matplotlib.pyplot as plt\n",
        "import seaborn as sns\n",
        "\n",
        "plt.figure(figsize=(8, 6))\n",
        "sns.heatmap(conf_matrix, annot=True, fmt=\"d\", linewidths=.5, cmap=\"Blues\", xticklabels=['Cannot Fly', 'Can Fly'], yticklabels=['Cannot Fly', 'Can Fly'])\n",
        "plt.xlabel('Predicted Labels')\n",
        "plt.ylabel('True Labels')\n",
        "plt.title('Confusion Matrix')\n",
        "plt.show()\n",
        "\n"
      ],
      "metadata": {
        "colab": {
          "base_uri": "https://localhost:8080/",
          "height": 564
        },
        "id": "aJgdzMDEKvw5",
        "outputId": "0d343757-96e7-4bf1-cc3a-912f727478b3"
      },
      "execution_count": 13,
      "outputs": [
        {
          "output_type": "display_data",
          "data": {
            "text/plain": [
              "<Figure size 800x600 with 2 Axes>"
            ],
            "image/png": "[encoded data removed]"
          },
          "metadata": {}
        }
      ]
    },
    {
      "cell_type": "markdown",
      "source": [
        "# **plot of the training and validation loss and accuracy over epochs:**\n",
        "\n",
        "1. **Loss Plot**:\n",
        "   - Subplot 1: Plots training and validation loss.\n",
        "   - X-axis: Epoch.\n",
        "   - Y-axis: Loss.\n",
        "   - Legend: Train vs. Validation loss.\n",
        "\n",
        "2. **Accuracy Plot**:\n",
        "   - Subplot 2: Plots training and validation accuracy.\n",
        "   - X-axis: Epoch.\n",
        "   - Y-axis: Accuracy.\n",
        "   - Legend: Train vs. Validation accuracy.\n",
        "\n",
        "This visualizes the model's performance during training."
      ],
      "metadata": {
        "id": "YubqQWVfl40b"
      }
    },
    {
      "cell_type": "code",
      "source": [
        "# Plot training & validation loss values\n",
        "plt.subplot(1, 2, 1)\n",
        "plt.plot(history.history['loss'])\n",
        "plt.plot(history.history['val_loss'])\n",
        "plt.title('Model Loss')\n",
        "plt.xlabel('Epoch')\n",
        "plt.ylabel('Loss')\n",
        "plt.legend(['Train', 'Validation'], loc='upper right')\n",
        "\n",
        "# Plot training & validation accuracy values\n",
        "plt.subplot(1, 2, 2)\n",
        "plt.plot(history.history['accuracy'])\n",
        "plt.plot(history.history['val_accuracy'])\n",
        "plt.title('Model Accuracy')\n",
        "plt.xlabel('Epoch')\n",
        "plt.ylabel('Accuracy')\n",
        "plt.legend(['Train', 'Validation'], loc='upper left')\n",
        "\n",
        "# Show the plots\n",
        "plt.show()"
      ],
      "metadata": {
        "id": "K1_0fcQ7K14D",
        "colab": {
          "base_uri": "https://localhost:8080/",
          "height": 472
        },
        "outputId": "6b9e52a7-2208-4190-e7a7-dc5d03918471"
      },
      "execution_count": 14,
      "outputs": [
        {
          "output_type": "display_data",
          "data": {
            "text/plain": [
              "<Figure size 640x480 with 2 Axes>"
            ],
            "image/png": "[encoded data removed]"
          },
          "metadata": {}
        }
      ]
    },
    {
      "cell_type": "markdown",
      "source": [
        "#**Model Performances:**\n",
        "*   As training progresses, the loss continualy decreases over the epochs as the accuracy steadily increases.\n",
        "\n",
        "\n",
        "\n",
        "\n",
        "\n"
      ],
      "metadata": {
        "id": "44jYwc38O1sb"
      }
    }
  ],
  "metadata": {
    "colab": {
      "provenance": []
    },
    "kernelspec": {
      "display_name": "Python 3",
      "name": "python3"
    },
    "language_info": {
      "name": "python"
    }
  },
  "nbformat": 4,
  "nbformat_minor": 0
}